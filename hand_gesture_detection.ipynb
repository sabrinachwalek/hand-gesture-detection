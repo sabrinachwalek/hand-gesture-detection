{
  "cells": [
    {
      "cell_type": "code",
      "execution_count": 1,
      "metadata": {
        "id": "igMyGnjE9hEp"
      },
      "outputs": [],
      "source": [
        "import csv\n",
        "\n",
        "import numpy as np\n",
        "import tensorflow as tf\n",
        "from sklearn.model_selection import train_test_split\n",
        "import matplotlib.pyplot as plt\n",
        "import numpy as np\n",
        "\n",
        "RANDOM_SEED = 42"
      ]
    },
    {
      "cell_type": "code",
      "source": [
        "!git clone https://github.com/sabrinachwalek/hand-gesture-detection.git"
      ],
      "metadata": {
        "colab": {
          "base_uri": "https://localhost:8080/"
        },
        "id": "zx1sCzeWqvQi",
        "outputId": "a05e0f8f-fa08-474a-f310-ec984c9defaf"
      },
      "execution_count": 2,
      "outputs": [
        {
          "output_type": "stream",
          "name": "stdout",
          "text": [
            "Cloning into 'hand-gesture-detection'...\n",
            "remote: Enumerating objects: 53, done.\u001b[K\n",
            "remote: Counting objects: 100% (53/53), done.\u001b[K\n",
            "remote: Compressing objects: 100% (38/38), done.\u001b[K\n",
            "remote: Total 53 (delta 24), reused 39 (delta 10), pack-reused 0\u001b[K\n",
            "Unpacking objects: 100% (53/53), 957.79 KiB | 1.44 MiB/s, done.\n"
          ]
        }
      ]
    },
    {
      "cell_type": "markdown",
      "metadata": {
        "id": "t2HDvhIu9hEr"
      },
      "source": [
        "# Specify each path"
      ]
    },
    {
      "cell_type": "code",
      "execution_count": 3,
      "metadata": {
        "id": "9NvZP2Zn9hEy"
      },
      "outputs": [],
      "source": [
        "dataset = 'hand-gesture-detection/model/keypoint_classifier/keypoint.csv'\n",
        "model_save_path = 'hand-gesture-detection/model/keypoint_classifier/keypoint_classifier.hdf5'\n",
        "tflite_save_path = 'hand-gesture-detection/model/keypoint_classifier/keypoint_classifier.tflite'"
      ]
    },
    {
      "cell_type": "markdown",
      "metadata": {
        "id": "s5oMH7x19hEz"
      },
      "source": [
        "# Set number of classes"
      ]
    },
    {
      "cell_type": "code",
      "execution_count": 4,
      "metadata": {
        "id": "du4kodXL9hEz"
      },
      "outputs": [],
      "source": [
        "NUM_CLASSES = 7"
      ]
    },
    {
      "cell_type": "markdown",
      "metadata": {
        "id": "XjnL0uso9hEz"
      },
      "source": [
        "# Dataset reading"
      ]
    },
    {
      "cell_type": "code",
      "execution_count": 5,
      "metadata": {
        "id": "QT5ZqtEz9hE0"
      },
      "outputs": [],
      "source": [
        "X_dataset = np.loadtxt(dataset, delimiter=',', dtype='float32', usecols=list(range(1, (21 * 2) + 1)))"
      ]
    },
    {
      "cell_type": "code",
      "execution_count": 6,
      "metadata": {
        "id": "QmoKFsp49hE0"
      },
      "outputs": [],
      "source": [
        "y_dataset = np.loadtxt(dataset, delimiter=',', dtype='int32', usecols=(0))"
      ]
    },
    {
      "cell_type": "code",
      "execution_count": 7,
      "metadata": {
        "id": "xQU7JTZ_9hE0"
      },
      "outputs": [],
      "source": [
        "X_train, X_test, y_train, y_test = train_test_split(X_dataset, y_dataset, train_size=0.75, random_state=RANDOM_SEED)"
      ]
    },
    {
      "cell_type": "markdown",
      "metadata": {
        "id": "mxK_lETT9hE0"
      },
      "source": [
        "# Model building"
      ]
    },
    {
      "cell_type": "code",
      "execution_count": 8,
      "metadata": {
        "id": "vHBmUf1t9hE1"
      },
      "outputs": [],
      "source": [
        "model = tf.keras.models.Sequential([\n",
        "    tf.keras.layers.Input((21 * 2, )),\n",
        "    tf.keras.layers.Dropout(0.2),\n",
        "    tf.keras.layers.Dense(40, activation='relu'),\n",
        "    tf.keras.layers.Dropout(0.4),\n",
        "    tf.keras.layers.Dense(20, activation='relu'),\n",
        "    tf.keras.layers.Dropout(0.4),\n",
        "    tf.keras.layers.Dense(10, activation='relu'),\n",
        "    tf.keras.layers.Dense(NUM_CLASSES, activation='softmax')\n",
        "])"
      ]
    },
    {
      "cell_type": "code",
      "execution_count": 9,
      "metadata": {
        "colab": {
          "base_uri": "https://localhost:8080/"
        },
        "id": "ypqky9tc9hE1",
        "outputId": "8c072c7e-bec3-49a7-8af0-a646d9348807"
      },
      "outputs": [
        {
          "output_type": "stream",
          "name": "stdout",
          "text": [
            "Model: \"sequential\"\n",
            "_________________________________________________________________\n",
            " Layer (type)                Output Shape              Param #   \n",
            "=================================================================\n",
            " dropout (Dropout)           (None, 42)                0         \n",
            "                                                                 \n",
            " dense (Dense)               (None, 40)                1720      \n",
            "                                                                 \n",
            " dropout_1 (Dropout)         (None, 40)                0         \n",
            "                                                                 \n",
            " dense_1 (Dense)             (None, 20)                820       \n",
            "                                                                 \n",
            " dropout_2 (Dropout)         (None, 20)                0         \n",
            "                                                                 \n",
            " dense_2 (Dense)             (None, 10)                210       \n",
            "                                                                 \n",
            " dense_3 (Dense)             (None, 7)                 77        \n",
            "                                                                 \n",
            "=================================================================\n",
            "Total params: 2,827\n",
            "Trainable params: 2,827\n",
            "Non-trainable params: 0\n",
            "_________________________________________________________________\n"
          ]
        }
      ],
      "source": [
        "model.summary()  # tf.keras.utils.plot_model(model, show_shapes=True)"
      ]
    },
    {
      "cell_type": "code",
      "execution_count": 10,
      "metadata": {
        "id": "MbMjOflQ9hE1"
      },
      "outputs": [],
      "source": [
        "# Model checkpoint callback\n",
        "cp_callback = tf.keras.callbacks.ModelCheckpoint(\n",
        "    model_save_path, verbose=1, save_weights_only=False)\n",
        "# Callback for early stopping\n",
        "es_callback = tf.keras.callbacks.EarlyStopping(patience=50, verbose=1)"
      ]
    },
    {
      "cell_type": "code",
      "execution_count": 11,
      "metadata": {
        "id": "c3Dac0M_9hE2"
      },
      "outputs": [],
      "source": [
        "# Model compilation\n",
        "model.compile(\n",
        "    optimizer='adam',\n",
        "    loss='sparse_categorical_crossentropy',\n",
        "    metrics=['accuracy']\n",
        ")"
      ]
    },
    {
      "cell_type": "markdown",
      "metadata": {
        "id": "7XI0j1Iu9hE2"
      },
      "source": [
        "# Model training"
      ]
    },
    {
      "cell_type": "code",
      "execution_count": 12,
      "metadata": {
        "colab": {
          "base_uri": "https://localhost:8080/"
        },
        "id": "WirBl-JE9hE3",
        "outputId": "b0391edc-68de-4dba-89a9-dcec026a8dbf",
        "scrolled": true
      },
      "outputs": [
        {
          "output_type": "stream",
          "name": "stdout",
          "text": [
            "Epoch 1/100\n",
            "29/30 [============================>.] - ETA: 0s - loss: 1.9663 - accuracy: 0.1611\n",
            "Epoch 1: saving model to hand-gesture-detection/model/keypoint_classifier/keypoint_classifier.hdf5\n",
            "30/30 [==============================] - 12s 38ms/step - loss: 1.9662 - accuracy: 0.1618 - val_loss: 1.8570 - val_accuracy: 0.3492\n",
            "Epoch 2/100\n",
            "25/30 [========================>.....] - ETA: 0s - loss: 1.8659 - accuracy: 0.2434\n",
            "Epoch 2: saving model to hand-gesture-detection/model/keypoint_classifier/keypoint_classifier.hdf5\n",
            "30/30 [==============================] - 0s 12ms/step - loss: 1.8607 - accuracy: 0.2485 - val_loss: 1.7537 - val_accuracy: 0.3323\n",
            "Epoch 3/100\n",
            "30/30 [==============================] - ETA: 0s - loss: 1.7668 - accuracy: 0.3019\n",
            "Epoch 3: saving model to hand-gesture-detection/model/keypoint_classifier/keypoint_classifier.hdf5\n",
            "30/30 [==============================] - 0s 10ms/step - loss: 1.7668 - accuracy: 0.3019 - val_loss: 1.5968 - val_accuracy: 0.3387\n",
            "Epoch 4/100\n",
            "30/30 [==============================] - ETA: 0s - loss: 1.6507 - accuracy: 0.3457\n",
            "Epoch 4: saving model to hand-gesture-detection/model/keypoint_classifier/keypoint_classifier.hdf5\n",
            "30/30 [==============================] - 0s 10ms/step - loss: 1.6507 - accuracy: 0.3457 - val_loss: 1.4674 - val_accuracy: 0.4087\n",
            "Epoch 5/100\n",
            "28/30 [===========================>..] - ETA: 0s - loss: 1.5575 - accuracy: 0.3915\n",
            "Epoch 5: saving model to hand-gesture-detection/model/keypoint_classifier/keypoint_classifier.hdf5\n",
            "30/30 [==============================] - 0s 12ms/step - loss: 1.5530 - accuracy: 0.3937 - val_loss: 1.3357 - val_accuracy: 0.5133\n",
            "Epoch 6/100\n",
            "29/30 [============================>.] - ETA: 0s - loss: 1.4776 - accuracy: 0.4289\n",
            "Epoch 6: saving model to hand-gesture-detection/model/keypoint_classifier/keypoint_classifier.hdf5\n",
            "30/30 [==============================] - 0s 11ms/step - loss: 1.4778 - accuracy: 0.4286 - val_loss: 1.2292 - val_accuracy: 0.6702\n",
            "Epoch 7/100\n",
            "30/30 [==============================] - ETA: 0s - loss: 1.3935 - accuracy: 0.4686\n",
            "Epoch 7: saving model to hand-gesture-detection/model/keypoint_classifier/keypoint_classifier.hdf5\n",
            "30/30 [==============================] - 0s 11ms/step - loss: 1.3935 - accuracy: 0.4686 - val_loss: 1.1296 - val_accuracy: 0.7989\n",
            "Epoch 8/100\n",
            "30/30 [==============================] - ETA: 0s - loss: 1.3326 - accuracy: 0.4965\n",
            "Epoch 8: saving model to hand-gesture-detection/model/keypoint_classifier/keypoint_classifier.hdf5\n",
            "30/30 [==============================] - 0s 12ms/step - loss: 1.3326 - accuracy: 0.4965 - val_loss: 1.0384 - val_accuracy: 0.8246\n",
            "Epoch 9/100\n",
            "26/30 [=========================>....] - ETA: 0s - loss: 1.2759 - accuracy: 0.5108\n",
            "Epoch 9: saving model to hand-gesture-detection/model/keypoint_classifier/keypoint_classifier.hdf5\n",
            "30/30 [==============================] - 0s 13ms/step - loss: 1.2637 - accuracy: 0.5164 - val_loss: 0.9471 - val_accuracy: 0.9099\n",
            "Epoch 10/100\n",
            "24/30 [=======================>......] - ETA: 0s - loss: 1.2096 - accuracy: 0.5518\n",
            "Epoch 10: saving model to hand-gesture-detection/model/keypoint_classifier/keypoint_classifier.hdf5\n",
            "30/30 [==============================] - 0s 12ms/step - loss: 1.2139 - accuracy: 0.5494 - val_loss: 0.8623 - val_accuracy: 0.9059\n",
            "Epoch 11/100\n",
            "29/30 [============================>.] - ETA: 0s - loss: 1.1730 - accuracy: 0.5692\n",
            "Epoch 11: saving model to hand-gesture-detection/model/keypoint_classifier/keypoint_classifier.hdf5\n",
            "30/30 [==============================] - 0s 14ms/step - loss: 1.1726 - accuracy: 0.5695 - val_loss: 0.8032 - val_accuracy: 0.8882\n",
            "Epoch 12/100\n",
            "29/30 [============================>.] - ETA: 0s - loss: 1.1135 - accuracy: 0.5959\n",
            "Epoch 12: saving model to hand-gesture-detection/model/keypoint_classifier/keypoint_classifier.hdf5\n",
            "30/30 [==============================] - 1s 22ms/step - loss: 1.1142 - accuracy: 0.5961 - val_loss: 0.7446 - val_accuracy: 0.9131\n",
            "Epoch 13/100\n",
            "29/30 [============================>.] - ETA: 0s - loss: 1.0540 - accuracy: 0.6115\n",
            "Epoch 13: saving model to hand-gesture-detection/model/keypoint_classifier/keypoint_classifier.hdf5\n",
            "30/30 [==============================] - 0s 15ms/step - loss: 1.0538 - accuracy: 0.6114 - val_loss: 0.6908 - val_accuracy: 0.9123\n",
            "Epoch 14/100\n",
            "26/30 [=========================>....] - ETA: 0s - loss: 1.0233 - accuracy: 0.6313\n",
            "Epoch 14: saving model to hand-gesture-detection/model/keypoint_classifier/keypoint_classifier.hdf5\n",
            "30/30 [==============================] - 1s 20ms/step - loss: 1.0313 - accuracy: 0.6269 - val_loss: 0.6656 - val_accuracy: 0.9123\n",
            "Epoch 15/100\n",
            "28/30 [===========================>..] - ETA: 0s - loss: 1.0121 - accuracy: 0.6334\n",
            "Epoch 15: saving model to hand-gesture-detection/model/keypoint_classifier/keypoint_classifier.hdf5\n",
            "30/30 [==============================] - 1s 19ms/step - loss: 1.0086 - accuracy: 0.6350 - val_loss: 0.6223 - val_accuracy: 0.9147\n",
            "Epoch 16/100\n",
            "27/30 [==========================>...] - ETA: 0s - loss: 0.9983 - accuracy: 0.6450\n",
            "Epoch 16: saving model to hand-gesture-detection/model/keypoint_classifier/keypoint_classifier.hdf5\n",
            "30/30 [==============================] - 0s 16ms/step - loss: 0.9990 - accuracy: 0.6422 - val_loss: 0.5936 - val_accuracy: 0.9187\n",
            "Epoch 17/100\n",
            "29/30 [============================>.] - ETA: 0s - loss: 0.9560 - accuracy: 0.6565\n",
            "Epoch 17: saving model to hand-gesture-detection/model/keypoint_classifier/keypoint_classifier.hdf5\n",
            "30/30 [==============================] - 0s 11ms/step - loss: 0.9565 - accuracy: 0.6565 - val_loss: 0.5660 - val_accuracy: 0.9220\n",
            "Epoch 18/100\n",
            "29/30 [============================>.] - ETA: 0s - loss: 0.9275 - accuracy: 0.6743\n",
            "Epoch 18: saving model to hand-gesture-detection/model/keypoint_classifier/keypoint_classifier.hdf5\n",
            "30/30 [==============================] - 0s 11ms/step - loss: 0.9302 - accuracy: 0.6739 - val_loss: 0.5391 - val_accuracy: 0.9228\n",
            "Epoch 19/100\n",
            "25/30 [========================>.....] - ETA: 0s - loss: 0.8946 - accuracy: 0.6888\n",
            "Epoch 19: saving model to hand-gesture-detection/model/keypoint_classifier/keypoint_classifier.hdf5\n",
            "30/30 [==============================] - 0s 12ms/step - loss: 0.8923 - accuracy: 0.6903 - val_loss: 0.5113 - val_accuracy: 0.9228\n",
            "Epoch 20/100\n",
            "28/30 [===========================>..] - ETA: 0s - loss: 0.8857 - accuracy: 0.6900\n",
            "Epoch 20: saving model to hand-gesture-detection/model/keypoint_classifier/keypoint_classifier.hdf5\n",
            "30/30 [==============================] - 0s 13ms/step - loss: 0.8883 - accuracy: 0.6884 - val_loss: 0.4884 - val_accuracy: 0.9300\n",
            "Epoch 21/100\n",
            "28/30 [===========================>..] - ETA: 0s - loss: 0.8508 - accuracy: 0.7028\n",
            "Epoch 21: saving model to hand-gesture-detection/model/keypoint_classifier/keypoint_classifier.hdf5\n",
            "30/30 [==============================] - 0s 15ms/step - loss: 0.8508 - accuracy: 0.7016 - val_loss: 0.4774 - val_accuracy: 0.9212\n",
            "Epoch 22/100\n",
            "29/30 [============================>.] - ETA: 0s - loss: 0.8516 - accuracy: 0.6988\n",
            "Epoch 22: saving model to hand-gesture-detection/model/keypoint_classifier/keypoint_classifier.hdf5\n",
            "30/30 [==============================] - 0s 11ms/step - loss: 0.8517 - accuracy: 0.6983 - val_loss: 0.4636 - val_accuracy: 0.9252\n",
            "Epoch 23/100\n",
            "29/30 [============================>.] - ETA: 0s - loss: 0.8312 - accuracy: 0.7047\n",
            "Epoch 23: saving model to hand-gesture-detection/model/keypoint_classifier/keypoint_classifier.hdf5\n",
            "30/30 [==============================] - 0s 13ms/step - loss: 0.8313 - accuracy: 0.7048 - val_loss: 0.4600 - val_accuracy: 0.9236\n",
            "Epoch 24/100\n",
            "24/30 [=======================>......] - ETA: 0s - loss: 0.8278 - accuracy: 0.7135\n",
            "Epoch 24: saving model to hand-gesture-detection/model/keypoint_classifier/keypoint_classifier.hdf5\n",
            "30/30 [==============================] - 0s 12ms/step - loss: 0.8244 - accuracy: 0.7128 - val_loss: 0.4383 - val_accuracy: 0.9308\n",
            "Epoch 25/100\n",
            "27/30 [==========================>...] - ETA: 0s - loss: 0.7881 - accuracy: 0.7225\n",
            "Epoch 25: saving model to hand-gesture-detection/model/keypoint_classifier/keypoint_classifier.hdf5\n",
            "30/30 [==============================] - 0s 11ms/step - loss: 0.7887 - accuracy: 0.7220 - val_loss: 0.4217 - val_accuracy: 0.9300\n",
            "Epoch 26/100\n",
            "28/30 [===========================>..] - ETA: 0s - loss: 0.7621 - accuracy: 0.7254\n",
            "Epoch 26: saving model to hand-gesture-detection/model/keypoint_classifier/keypoint_classifier.hdf5\n",
            "30/30 [==============================] - 1s 20ms/step - loss: 0.7615 - accuracy: 0.7252 - val_loss: 0.4067 - val_accuracy: 0.9332\n",
            "Epoch 27/100\n",
            "23/30 [======================>.......] - ETA: 0s - loss: 0.7403 - accuracy: 0.7395\n",
            "Epoch 27: saving model to hand-gesture-detection/model/keypoint_classifier/keypoint_classifier.hdf5\n",
            "30/30 [==============================] - 0s 10ms/step - loss: 0.7480 - accuracy: 0.7391 - val_loss: 0.4016 - val_accuracy: 0.9308\n",
            "Epoch 28/100\n",
            "27/30 [==========================>...] - ETA: 0s - loss: 0.7246 - accuracy: 0.7546\n",
            "Epoch 28: saving model to hand-gesture-detection/model/keypoint_classifier/keypoint_classifier.hdf5\n",
            "30/30 [==============================] - 0s 11ms/step - loss: 0.7237 - accuracy: 0.7555 - val_loss: 0.3978 - val_accuracy: 0.9332\n",
            "Epoch 29/100\n",
            "25/30 [========================>.....] - ETA: 0s - loss: 0.7414 - accuracy: 0.7425\n",
            "Epoch 29: saving model to hand-gesture-detection/model/keypoint_classifier/keypoint_classifier.hdf5\n",
            "30/30 [==============================] - 0s 11ms/step - loss: 0.7408 - accuracy: 0.7418 - val_loss: 0.3907 - val_accuracy: 0.9324\n",
            "Epoch 30/100\n",
            "27/30 [==========================>...] - ETA: 0s - loss: 0.7365 - accuracy: 0.7433\n",
            "Epoch 30: saving model to hand-gesture-detection/model/keypoint_classifier/keypoint_classifier.hdf5\n",
            "30/30 [==============================] - 0s 9ms/step - loss: 0.7328 - accuracy: 0.7450 - val_loss: 0.3792 - val_accuracy: 0.9324\n",
            "Epoch 31/100\n",
            "28/30 [===========================>..] - ETA: 0s - loss: 0.7022 - accuracy: 0.7567\n",
            "Epoch 31: saving model to hand-gesture-detection/model/keypoint_classifier/keypoint_classifier.hdf5\n",
            "30/30 [==============================] - 0s 7ms/step - loss: 0.7023 - accuracy: 0.7563 - val_loss: 0.3799 - val_accuracy: 0.9340\n",
            "Epoch 32/100\n",
            "28/30 [===========================>..] - ETA: 0s - loss: 0.7023 - accuracy: 0.7561\n",
            "Epoch 32: saving model to hand-gesture-detection/model/keypoint_classifier/keypoint_classifier.hdf5\n",
            "30/30 [==============================] - 0s 8ms/step - loss: 0.6990 - accuracy: 0.7576 - val_loss: 0.3648 - val_accuracy: 0.9332\n",
            "Epoch 33/100\n",
            "30/30 [==============================] - ETA: 0s - loss: 0.6922 - accuracy: 0.7563\n",
            "Epoch 33: saving model to hand-gesture-detection/model/keypoint_classifier/keypoint_classifier.hdf5\n",
            "30/30 [==============================] - 0s 8ms/step - loss: 0.6922 - accuracy: 0.7563 - val_loss: 0.3665 - val_accuracy: 0.9340\n",
            "Epoch 34/100\n",
            "27/30 [==========================>...] - ETA: 0s - loss: 0.6847 - accuracy: 0.7671\n",
            "Epoch 34: saving model to hand-gesture-detection/model/keypoint_classifier/keypoint_classifier.hdf5\n",
            "30/30 [==============================] - 0s 7ms/step - loss: 0.6847 - accuracy: 0.7673 - val_loss: 0.3574 - val_accuracy: 0.9284\n",
            "Epoch 35/100\n",
            "27/30 [==========================>...] - ETA: 0s - loss: 0.6744 - accuracy: 0.7737\n",
            "Epoch 35: saving model to hand-gesture-detection/model/keypoint_classifier/keypoint_classifier.hdf5\n",
            "30/30 [==============================] - 0s 7ms/step - loss: 0.6703 - accuracy: 0.7748 - val_loss: 0.3550 - val_accuracy: 0.9356\n",
            "Epoch 36/100\n",
            "28/30 [===========================>..] - ETA: 0s - loss: 0.6751 - accuracy: 0.7723\n",
            "Epoch 36: saving model to hand-gesture-detection/model/keypoint_classifier/keypoint_classifier.hdf5\n",
            "30/30 [==============================] - 0s 6ms/step - loss: 0.6704 - accuracy: 0.7727 - val_loss: 0.3437 - val_accuracy: 0.9340\n",
            "Epoch 37/100\n",
            "27/30 [==========================>...] - ETA: 0s - loss: 0.6612 - accuracy: 0.7781\n",
            "Epoch 37: saving model to hand-gesture-detection/model/keypoint_classifier/keypoint_classifier.hdf5\n",
            "30/30 [==============================] - 0s 8ms/step - loss: 0.6559 - accuracy: 0.7783 - val_loss: 0.3494 - val_accuracy: 0.9324\n",
            "Epoch 38/100\n",
            "29/30 [============================>.] - ETA: 0s - loss: 0.6529 - accuracy: 0.7742\n",
            "Epoch 38: saving model to hand-gesture-detection/model/keypoint_classifier/keypoint_classifier.hdf5\n",
            "30/30 [==============================] - 0s 7ms/step - loss: 0.6516 - accuracy: 0.7748 - val_loss: 0.3409 - val_accuracy: 0.9364\n",
            "Epoch 39/100\n",
            "29/30 [============================>.] - ETA: 0s - loss: 0.6577 - accuracy: 0.7710\n",
            "Epoch 39: saving model to hand-gesture-detection/model/keypoint_classifier/keypoint_classifier.hdf5\n",
            "30/30 [==============================] - 0s 8ms/step - loss: 0.6577 - accuracy: 0.7708 - val_loss: 0.3361 - val_accuracy: 0.9364\n",
            "Epoch 40/100\n",
            "29/30 [============================>.] - ETA: 0s - loss: 0.6430 - accuracy: 0.7815\n",
            "Epoch 40: saving model to hand-gesture-detection/model/keypoint_classifier/keypoint_classifier.hdf5\n",
            "30/30 [==============================] - 0s 6ms/step - loss: 0.6432 - accuracy: 0.7815 - val_loss: 0.3363 - val_accuracy: 0.9356\n",
            "Epoch 41/100\n",
            "28/30 [===========================>..] - ETA: 0s - loss: 0.6515 - accuracy: 0.7748\n",
            "Epoch 41: saving model to hand-gesture-detection/model/keypoint_classifier/keypoint_classifier.hdf5\n",
            "30/30 [==============================] - 0s 8ms/step - loss: 0.6461 - accuracy: 0.7770 - val_loss: 0.3363 - val_accuracy: 0.9364\n",
            "Epoch 42/100\n",
            "26/30 [=========================>....] - ETA: 0s - loss: 0.6316 - accuracy: 0.7825\n",
            "Epoch 42: saving model to hand-gesture-detection/model/keypoint_classifier/keypoint_classifier.hdf5\n",
            "30/30 [==============================] - 0s 7ms/step - loss: 0.6336 - accuracy: 0.7815 - val_loss: 0.3325 - val_accuracy: 0.9364\n",
            "Epoch 43/100\n",
            "26/30 [=========================>....] - ETA: 0s - loss: 0.6454 - accuracy: 0.7734\n",
            "Epoch 43: saving model to hand-gesture-detection/model/keypoint_classifier/keypoint_classifier.hdf5\n",
            "30/30 [==============================] - 0s 7ms/step - loss: 0.6473 - accuracy: 0.7732 - val_loss: 0.3338 - val_accuracy: 0.9356\n",
            "Epoch 44/100\n",
            "27/30 [==========================>...] - ETA: 0s - loss: 0.6145 - accuracy: 0.7911\n",
            "Epoch 44: saving model to hand-gesture-detection/model/keypoint_classifier/keypoint_classifier.hdf5\n",
            "30/30 [==============================] - 0s 7ms/step - loss: 0.6185 - accuracy: 0.7923 - val_loss: 0.3337 - val_accuracy: 0.9364\n",
            "Epoch 45/100\n",
            "29/30 [============================>.] - ETA: 0s - loss: 0.6075 - accuracy: 0.7909\n",
            "Epoch 45: saving model to hand-gesture-detection/model/keypoint_classifier/keypoint_classifier.hdf5\n",
            "30/30 [==============================] - 0s 8ms/step - loss: 0.6085 - accuracy: 0.7901 - val_loss: 0.3283 - val_accuracy: 0.9364\n",
            "Epoch 46/100\n",
            "28/30 [===========================>..] - ETA: 0s - loss: 0.5997 - accuracy: 0.7980\n",
            "Epoch 46: saving model to hand-gesture-detection/model/keypoint_classifier/keypoint_classifier.hdf5\n",
            "30/30 [==============================] - 0s 7ms/step - loss: 0.6032 - accuracy: 0.7979 - val_loss: 0.3199 - val_accuracy: 0.9348\n",
            "Epoch 47/100\n",
            "26/30 [=========================>....] - ETA: 0s - loss: 0.6099 - accuracy: 0.7936\n",
            "Epoch 47: saving model to hand-gesture-detection/model/keypoint_classifier/keypoint_classifier.hdf5\n",
            "30/30 [==============================] - 0s 7ms/step - loss: 0.6129 - accuracy: 0.7920 - val_loss: 0.3170 - val_accuracy: 0.9381\n",
            "Epoch 48/100\n",
            "27/30 [==========================>...] - ETA: 0s - loss: 0.6009 - accuracy: 0.8012\n",
            "Epoch 48: saving model to hand-gesture-detection/model/keypoint_classifier/keypoint_classifier.hdf5\n",
            "30/30 [==============================] - 0s 7ms/step - loss: 0.5976 - accuracy: 0.8011 - val_loss: 0.3111 - val_accuracy: 0.9364\n",
            "Epoch 49/100\n",
            "29/30 [============================>.] - ETA: 0s - loss: 0.6027 - accuracy: 0.7966\n",
            "Epoch 49: saving model to hand-gesture-detection/model/keypoint_classifier/keypoint_classifier.hdf5\n",
            "30/30 [==============================] - 0s 6ms/step - loss: 0.6025 - accuracy: 0.7968 - val_loss: 0.3110 - val_accuracy: 0.9364\n",
            "Epoch 50/100\n",
            "28/30 [===========================>..] - ETA: 0s - loss: 0.5980 - accuracy: 0.7988\n",
            "Epoch 50: saving model to hand-gesture-detection/model/keypoint_classifier/keypoint_classifier.hdf5\n",
            "30/30 [==============================] - 0s 7ms/step - loss: 0.5944 - accuracy: 0.8001 - val_loss: 0.3150 - val_accuracy: 0.9348\n",
            "Epoch 51/100\n",
            "28/30 [===========================>..] - ETA: 0s - loss: 0.5911 - accuracy: 0.8011\n",
            "Epoch 51: saving model to hand-gesture-detection/model/keypoint_classifier/keypoint_classifier.hdf5\n",
            "30/30 [==============================] - 0s 8ms/step - loss: 0.5937 - accuracy: 0.8003 - val_loss: 0.3112 - val_accuracy: 0.9324\n",
            "Epoch 52/100\n",
            "26/30 [=========================>....] - ETA: 0s - loss: 0.5708 - accuracy: 0.8083\n",
            "Epoch 52: saving model to hand-gesture-detection/model/keypoint_classifier/keypoint_classifier.hdf5\n",
            "30/30 [==============================] - 0s 11ms/step - loss: 0.5763 - accuracy: 0.8052 - val_loss: 0.3091 - val_accuracy: 0.9340\n",
            "Epoch 53/100\n",
            "29/30 [============================>.] - ETA: 0s - loss: 0.5966 - accuracy: 0.7969\n",
            "Epoch 53: saving model to hand-gesture-detection/model/keypoint_classifier/keypoint_classifier.hdf5\n",
            "30/30 [==============================] - 0s 12ms/step - loss: 0.5971 - accuracy: 0.7963 - val_loss: 0.3020 - val_accuracy: 0.9381\n",
            "Epoch 54/100\n",
            "25/30 [========================>.....] - ETA: 0s - loss: 0.5683 - accuracy: 0.8141\n",
            "Epoch 54: saving model to hand-gesture-detection/model/keypoint_classifier/keypoint_classifier.hdf5\n",
            "30/30 [==============================] - 0s 10ms/step - loss: 0.5738 - accuracy: 0.8127 - val_loss: 0.3023 - val_accuracy: 0.9372\n",
            "Epoch 55/100\n",
            "30/30 [==============================] - ETA: 0s - loss: 0.5783 - accuracy: 0.8154\n",
            "Epoch 55: saving model to hand-gesture-detection/model/keypoint_classifier/keypoint_classifier.hdf5\n",
            "30/30 [==============================] - 0s 10ms/step - loss: 0.5783 - accuracy: 0.8154 - val_loss: 0.3036 - val_accuracy: 0.9372\n",
            "Epoch 56/100\n",
            "27/30 [==========================>...] - ETA: 0s - loss: 0.5825 - accuracy: 0.8021\n",
            "Epoch 56: saving model to hand-gesture-detection/model/keypoint_classifier/keypoint_classifier.hdf5\n",
            "30/30 [==============================] - 0s 11ms/step - loss: 0.5840 - accuracy: 0.8027 - val_loss: 0.2988 - val_accuracy: 0.9364\n",
            "Epoch 57/100\n",
            "27/30 [==========================>...] - ETA: 0s - loss: 0.6007 - accuracy: 0.7983\n",
            "Epoch 57: saving model to hand-gesture-detection/model/keypoint_classifier/keypoint_classifier.hdf5\n",
            "30/30 [==============================] - 0s 11ms/step - loss: 0.5946 - accuracy: 0.7992 - val_loss: 0.3040 - val_accuracy: 0.9332\n",
            "Epoch 58/100\n",
            "30/30 [==============================] - ETA: 0s - loss: 0.5854 - accuracy: 0.8078\n",
            "Epoch 58: saving model to hand-gesture-detection/model/keypoint_classifier/keypoint_classifier.hdf5\n",
            "30/30 [==============================] - 0s 10ms/step - loss: 0.5854 - accuracy: 0.8078 - val_loss: 0.3035 - val_accuracy: 0.9324\n",
            "Epoch 59/100\n",
            "26/30 [=========================>....] - ETA: 0s - loss: 0.5757 - accuracy: 0.8044\n",
            "Epoch 59: saving model to hand-gesture-detection/model/keypoint_classifier/keypoint_classifier.hdf5\n",
            "30/30 [==============================] - 0s 10ms/step - loss: 0.5731 - accuracy: 0.8073 - val_loss: 0.3047 - val_accuracy: 0.9372\n",
            "Epoch 60/100\n",
            "25/30 [========================>.....] - ETA: 0s - loss: 0.5500 - accuracy: 0.8191\n",
            "Epoch 60: saving model to hand-gesture-detection/model/keypoint_classifier/keypoint_classifier.hdf5\n",
            "30/30 [==============================] - 0s 8ms/step - loss: 0.5523 - accuracy: 0.8199 - val_loss: 0.2975 - val_accuracy: 0.9348\n",
            "Epoch 61/100\n",
            "30/30 [==============================] - ETA: 0s - loss: 0.5515 - accuracy: 0.8180\n",
            "Epoch 61: saving model to hand-gesture-detection/model/keypoint_classifier/keypoint_classifier.hdf5\n",
            "30/30 [==============================] - 0s 6ms/step - loss: 0.5515 - accuracy: 0.8180 - val_loss: 0.2917 - val_accuracy: 0.9356\n",
            "Epoch 62/100\n",
            "29/30 [============================>.] - ETA: 0s - loss: 0.5285 - accuracy: 0.8160\n",
            "Epoch 62: saving model to hand-gesture-detection/model/keypoint_classifier/keypoint_classifier.hdf5\n",
            "30/30 [==============================] - 0s 7ms/step - loss: 0.5294 - accuracy: 0.8162 - val_loss: 0.2905 - val_accuracy: 0.9316\n",
            "Epoch 63/100\n",
            "27/30 [==========================>...] - ETA: 0s - loss: 0.5556 - accuracy: 0.8111\n",
            "Epoch 63: saving model to hand-gesture-detection/model/keypoint_classifier/keypoint_classifier.hdf5\n",
            "30/30 [==============================] - 0s 7ms/step - loss: 0.5513 - accuracy: 0.8129 - val_loss: 0.2892 - val_accuracy: 0.9308\n",
            "Epoch 64/100\n",
            "29/30 [============================>.] - ETA: 0s - loss: 0.5467 - accuracy: 0.8230\n",
            "Epoch 64: saving model to hand-gesture-detection/model/keypoint_classifier/keypoint_classifier.hdf5\n",
            "30/30 [==============================] - 0s 7ms/step - loss: 0.5468 - accuracy: 0.8229 - val_loss: 0.2856 - val_accuracy: 0.9356\n",
            "Epoch 65/100\n",
            "27/30 [==========================>...] - ETA: 0s - loss: 0.5478 - accuracy: 0.8186\n",
            "Epoch 65: saving model to hand-gesture-detection/model/keypoint_classifier/keypoint_classifier.hdf5\n",
            "30/30 [==============================] - 0s 8ms/step - loss: 0.5523 - accuracy: 0.8170 - val_loss: 0.2819 - val_accuracy: 0.9356\n",
            "Epoch 66/100\n",
            "27/30 [==========================>...] - ETA: 0s - loss: 0.5243 - accuracy: 0.8255\n",
            "Epoch 66: saving model to hand-gesture-detection/model/keypoint_classifier/keypoint_classifier.hdf5\n",
            "30/30 [==============================] - 0s 8ms/step - loss: 0.5330 - accuracy: 0.8242 - val_loss: 0.2857 - val_accuracy: 0.9356\n",
            "Epoch 67/100\n",
            "23/30 [======================>.......] - ETA: 0s - loss: 0.5538 - accuracy: 0.8176\n",
            "Epoch 67: saving model to hand-gesture-detection/model/keypoint_classifier/keypoint_classifier.hdf5\n",
            "30/30 [==============================] - 0s 7ms/step - loss: 0.5440 - accuracy: 0.8205 - val_loss: 0.2884 - val_accuracy: 0.9372\n",
            "Epoch 68/100\n",
            "28/30 [===========================>..] - ETA: 0s - loss: 0.5283 - accuracy: 0.8262\n",
            "Epoch 68: saving model to hand-gesture-detection/model/keypoint_classifier/keypoint_classifier.hdf5\n",
            "30/30 [==============================] - 0s 7ms/step - loss: 0.5232 - accuracy: 0.8282 - val_loss: 0.2780 - val_accuracy: 0.9356\n",
            "Epoch 69/100\n",
            "27/30 [==========================>...] - ETA: 0s - loss: 0.5480 - accuracy: 0.8278\n",
            "Epoch 69: saving model to hand-gesture-detection/model/keypoint_classifier/keypoint_classifier.hdf5\n",
            "30/30 [==============================] - 0s 7ms/step - loss: 0.5475 - accuracy: 0.8282 - val_loss: 0.2852 - val_accuracy: 0.9364\n",
            "Epoch 70/100\n",
            "28/30 [===========================>..] - ETA: 0s - loss: 0.5376 - accuracy: 0.8206\n",
            "Epoch 70: saving model to hand-gesture-detection/model/keypoint_classifier/keypoint_classifier.hdf5\n",
            "30/30 [==============================] - 0s 7ms/step - loss: 0.5345 - accuracy: 0.8210 - val_loss: 0.2752 - val_accuracy: 0.9381\n",
            "Epoch 71/100\n",
            "29/30 [============================>.] - ETA: 0s - loss: 0.5357 - accuracy: 0.8276\n",
            "Epoch 71: saving model to hand-gesture-detection/model/keypoint_classifier/keypoint_classifier.hdf5\n",
            "30/30 [==============================] - 0s 6ms/step - loss: 0.5366 - accuracy: 0.8274 - val_loss: 0.2829 - val_accuracy: 0.9372\n",
            "Epoch 72/100\n",
            "25/30 [========================>.....] - ETA: 0s - loss: 0.5356 - accuracy: 0.8238\n",
            "Epoch 72: saving model to hand-gesture-detection/model/keypoint_classifier/keypoint_classifier.hdf5\n",
            "30/30 [==============================] - 0s 7ms/step - loss: 0.5296 - accuracy: 0.8256 - val_loss: 0.2778 - val_accuracy: 0.9389\n",
            "Epoch 73/100\n",
            "27/30 [==========================>...] - ETA: 0s - loss: 0.5377 - accuracy: 0.8322\n",
            "Epoch 73: saving model to hand-gesture-detection/model/keypoint_classifier/keypoint_classifier.hdf5\n",
            "30/30 [==============================] - 0s 7ms/step - loss: 0.5376 - accuracy: 0.8304 - val_loss: 0.2807 - val_accuracy: 0.9348\n",
            "Epoch 74/100\n",
            "27/30 [==========================>...] - ETA: 0s - loss: 0.5200 - accuracy: 0.8284\n",
            "Epoch 74: saving model to hand-gesture-detection/model/keypoint_classifier/keypoint_classifier.hdf5\n",
            "30/30 [==============================] - 0s 8ms/step - loss: 0.5158 - accuracy: 0.8298 - val_loss: 0.2707 - val_accuracy: 0.9381\n",
            "Epoch 75/100\n",
            "29/30 [============================>.] - ETA: 0s - loss: 0.5015 - accuracy: 0.8273\n",
            "Epoch 75: saving model to hand-gesture-detection/model/keypoint_classifier/keypoint_classifier.hdf5\n",
            "30/30 [==============================] - 0s 6ms/step - loss: 0.5013 - accuracy: 0.8274 - val_loss: 0.2713 - val_accuracy: 0.9364\n",
            "Epoch 76/100\n",
            "29/30 [============================>.] - ETA: 0s - loss: 0.5021 - accuracy: 0.8346\n",
            "Epoch 76: saving model to hand-gesture-detection/model/keypoint_classifier/keypoint_classifier.hdf5\n",
            "30/30 [==============================] - 0s 8ms/step - loss: 0.5029 - accuracy: 0.8344 - val_loss: 0.2642 - val_accuracy: 0.9389\n",
            "Epoch 77/100\n",
            "24/30 [=======================>......] - ETA: 0s - loss: 0.5248 - accuracy: 0.8275\n",
            "Epoch 77: saving model to hand-gesture-detection/model/keypoint_classifier/keypoint_classifier.hdf5\n",
            "30/30 [==============================] - 0s 7ms/step - loss: 0.5220 - accuracy: 0.8285 - val_loss: 0.2674 - val_accuracy: 0.9389\n",
            "Epoch 78/100\n",
            "27/30 [==========================>...] - ETA: 0s - loss: 0.5154 - accuracy: 0.8310\n",
            "Epoch 78: saving model to hand-gesture-detection/model/keypoint_classifier/keypoint_classifier.hdf5\n",
            "30/30 [==============================] - 0s 7ms/step - loss: 0.5201 - accuracy: 0.8304 - val_loss: 0.2729 - val_accuracy: 0.9389\n",
            "Epoch 79/100\n",
            "27/30 [==========================>...] - ETA: 0s - loss: 0.4982 - accuracy: 0.8420\n",
            "Epoch 79: saving model to hand-gesture-detection/model/keypoint_classifier/keypoint_classifier.hdf5\n",
            "30/30 [==============================] - 0s 7ms/step - loss: 0.4991 - accuracy: 0.8433 - val_loss: 0.2706 - val_accuracy: 0.9356\n",
            "Epoch 80/100\n",
            "28/30 [===========================>..] - ETA: 0s - loss: 0.5074 - accuracy: 0.8371\n",
            "Epoch 80: saving model to hand-gesture-detection/model/keypoint_classifier/keypoint_classifier.hdf5\n",
            "30/30 [==============================] - 0s 7ms/step - loss: 0.5122 - accuracy: 0.8374 - val_loss: 0.2661 - val_accuracy: 0.9397\n",
            "Epoch 81/100\n",
            "24/30 [=======================>......] - ETA: 0s - loss: 0.4996 - accuracy: 0.8382\n",
            "Epoch 81: saving model to hand-gesture-detection/model/keypoint_classifier/keypoint_classifier.hdf5\n",
            "30/30 [==============================] - 0s 9ms/step - loss: 0.5066 - accuracy: 0.8379 - val_loss: 0.2731 - val_accuracy: 0.9348\n",
            "Epoch 82/100\n",
            "28/30 [===========================>..] - ETA: 0s - loss: 0.5110 - accuracy: 0.8407\n",
            "Epoch 82: saving model to hand-gesture-detection/model/keypoint_classifier/keypoint_classifier.hdf5\n",
            "30/30 [==============================] - 0s 7ms/step - loss: 0.5096 - accuracy: 0.8411 - val_loss: 0.2639 - val_accuracy: 0.9381\n",
            "Epoch 83/100\n",
            "25/30 [========================>.....] - ETA: 0s - loss: 0.4929 - accuracy: 0.8425\n",
            "Epoch 83: saving model to hand-gesture-detection/model/keypoint_classifier/keypoint_classifier.hdf5\n",
            "30/30 [==============================] - 0s 7ms/step - loss: 0.5067 - accuracy: 0.8390 - val_loss: 0.2639 - val_accuracy: 0.9381\n",
            "Epoch 84/100\n",
            "27/30 [==========================>...] - ETA: 0s - loss: 0.4843 - accuracy: 0.8403\n",
            "Epoch 84: saving model to hand-gesture-detection/model/keypoint_classifier/keypoint_classifier.hdf5\n",
            "30/30 [==============================] - 0s 7ms/step - loss: 0.4833 - accuracy: 0.8400 - val_loss: 0.2615 - val_accuracy: 0.9381\n",
            "Epoch 85/100\n",
            "29/30 [============================>.] - ETA: 0s - loss: 0.4995 - accuracy: 0.8402\n",
            "Epoch 85: saving model to hand-gesture-detection/model/keypoint_classifier/keypoint_classifier.hdf5\n",
            "30/30 [==============================] - 0s 8ms/step - loss: 0.5043 - accuracy: 0.8400 - val_loss: 0.2640 - val_accuracy: 0.9389\n",
            "Epoch 86/100\n",
            "23/30 [======================>.......] - ETA: 0s - loss: 0.4942 - accuracy: 0.8417\n",
            "Epoch 86: saving model to hand-gesture-detection/model/keypoint_classifier/keypoint_classifier.hdf5\n",
            "30/30 [==============================] - 0s 7ms/step - loss: 0.5019 - accuracy: 0.8382 - val_loss: 0.2573 - val_accuracy: 0.9356\n",
            "Epoch 87/100\n",
            "28/30 [===========================>..] - ETA: 0s - loss: 0.5045 - accuracy: 0.8418\n",
            "Epoch 87: saving model to hand-gesture-detection/model/keypoint_classifier/keypoint_classifier.hdf5\n",
            "30/30 [==============================] - 0s 7ms/step - loss: 0.5022 - accuracy: 0.8425 - val_loss: 0.2563 - val_accuracy: 0.9381\n",
            "Epoch 88/100\n",
            "27/30 [==========================>...] - ETA: 0s - loss: 0.4806 - accuracy: 0.8365\n",
            "Epoch 88: saving model to hand-gesture-detection/model/keypoint_classifier/keypoint_classifier.hdf5\n",
            "30/30 [==============================] - 0s 7ms/step - loss: 0.4767 - accuracy: 0.8376 - val_loss: 0.2721 - val_accuracy: 0.9364\n",
            "Epoch 89/100\n",
            "27/30 [==========================>...] - ETA: 0s - loss: 0.4718 - accuracy: 0.8484\n",
            "Epoch 89: saving model to hand-gesture-detection/model/keypoint_classifier/keypoint_classifier.hdf5\n",
            "30/30 [==============================] - 0s 7ms/step - loss: 0.4767 - accuracy: 0.8462 - val_loss: 0.2519 - val_accuracy: 0.9397\n",
            "Epoch 90/100\n",
            "29/30 [============================>.] - ETA: 0s - loss: 0.4714 - accuracy: 0.8486\n",
            "Epoch 90: saving model to hand-gesture-detection/model/keypoint_classifier/keypoint_classifier.hdf5\n",
            "30/30 [==============================] - 0s 8ms/step - loss: 0.4718 - accuracy: 0.8481 - val_loss: 0.2581 - val_accuracy: 0.9381\n",
            "Epoch 91/100\n",
            "26/30 [=========================>....] - ETA: 0s - loss: 0.4770 - accuracy: 0.8465\n",
            "Epoch 91: saving model to hand-gesture-detection/model/keypoint_classifier/keypoint_classifier.hdf5\n",
            "30/30 [==============================] - 0s 7ms/step - loss: 0.4780 - accuracy: 0.8468 - val_loss: 0.2516 - val_accuracy: 0.9381\n",
            "Epoch 92/100\n",
            "27/30 [==========================>...] - ETA: 0s - loss: 0.4805 - accuracy: 0.8516\n",
            "Epoch 92: saving model to hand-gesture-detection/model/keypoint_classifier/keypoint_classifier.hdf5\n",
            "30/30 [==============================] - 0s 7ms/step - loss: 0.4824 - accuracy: 0.8500 - val_loss: 0.2535 - val_accuracy: 0.9389\n",
            "Epoch 93/100\n",
            "27/30 [==========================>...] - ETA: 0s - loss: 0.4818 - accuracy: 0.8417\n",
            "Epoch 93: saving model to hand-gesture-detection/model/keypoint_classifier/keypoint_classifier.hdf5\n",
            "30/30 [==============================] - 0s 7ms/step - loss: 0.4771 - accuracy: 0.8438 - val_loss: 0.2520 - val_accuracy: 0.9381\n",
            "Epoch 94/100\n",
            "29/30 [============================>.] - ETA: 0s - loss: 0.4742 - accuracy: 0.8462\n",
            "Epoch 94: saving model to hand-gesture-detection/model/keypoint_classifier/keypoint_classifier.hdf5\n",
            "30/30 [==============================] - 0s 8ms/step - loss: 0.4747 - accuracy: 0.8454 - val_loss: 0.2563 - val_accuracy: 0.9372\n",
            "Epoch 95/100\n",
            "25/30 [========================>.....] - ETA: 0s - loss: 0.4676 - accuracy: 0.8422\n",
            "Epoch 95: saving model to hand-gesture-detection/model/keypoint_classifier/keypoint_classifier.hdf5\n",
            "30/30 [==============================] - 0s 9ms/step - loss: 0.4773 - accuracy: 0.8419 - val_loss: 0.2516 - val_accuracy: 0.9397\n",
            "Epoch 96/100\n",
            "27/30 [==========================>...] - ETA: 0s - loss: 0.4702 - accuracy: 0.8481\n",
            "Epoch 96: saving model to hand-gesture-detection/model/keypoint_classifier/keypoint_classifier.hdf5\n",
            "30/30 [==============================] - 0s 7ms/step - loss: 0.4637 - accuracy: 0.8519 - val_loss: 0.2561 - val_accuracy: 0.9397\n",
            "Epoch 97/100\n",
            "27/30 [==========================>...] - ETA: 0s - loss: 0.4965 - accuracy: 0.8423\n",
            "Epoch 97: saving model to hand-gesture-detection/model/keypoint_classifier/keypoint_classifier.hdf5\n",
            "30/30 [==============================] - 0s 7ms/step - loss: 0.4866 - accuracy: 0.8443 - val_loss: 0.2586 - val_accuracy: 0.9389\n",
            "Epoch 98/100\n",
            "28/30 [===========================>..] - ETA: 0s - loss: 0.4647 - accuracy: 0.8516\n",
            "Epoch 98: saving model to hand-gesture-detection/model/keypoint_classifier/keypoint_classifier.hdf5\n",
            "30/30 [==============================] - 0s 8ms/step - loss: 0.4672 - accuracy: 0.8513 - val_loss: 0.2481 - val_accuracy: 0.9381\n",
            "Epoch 99/100\n",
            "25/30 [========================>.....] - ETA: 0s - loss: 0.4556 - accuracy: 0.8512\n",
            "Epoch 99: saving model to hand-gesture-detection/model/keypoint_classifier/keypoint_classifier.hdf5\n",
            "30/30 [==============================] - 0s 7ms/step - loss: 0.4601 - accuracy: 0.8540 - val_loss: 0.2510 - val_accuracy: 0.9389\n",
            "Epoch 100/100\n",
            "27/30 [==========================>...] - ETA: 0s - loss: 0.4635 - accuracy: 0.8513\n",
            "Epoch 100: saving model to hand-gesture-detection/model/keypoint_classifier/keypoint_classifier.hdf5\n",
            "30/30 [==============================] - 0s 7ms/step - loss: 0.4611 - accuracy: 0.8532 - val_loss: 0.2471 - val_accuracy: 0.9397\n"
          ]
        }
      ],
      "source": [
        "history = model.fit(\n",
        "    X_train,\n",
        "    y_train,\n",
        "    epochs=100,\n",
        "    batch_size=128,\n",
        "    validation_data=(X_test, y_test),\n",
        "    callbacks=[cp_callback, es_callback]\n",
        ")"
      ]
    },
    {
      "cell_type": "code",
      "execution_count": 13,
      "metadata": {
        "colab": {
          "base_uri": "https://localhost:8080/"
        },
        "id": "pxvb2Y299hE3",
        "outputId": "59edb981-1d1e-4ad2-ba82-7b7212f750ab"
      },
      "outputs": [
        {
          "output_type": "stream",
          "name": "stdout",
          "text": [
            "10/10 [==============================] - 0s 3ms/step - loss: 0.2471 - accuracy: 0.9397\n"
          ]
        }
      ],
      "source": [
        "# Model evaluation\n",
        "val_loss, val_acc = model.evaluate(X_test, y_test, batch_size=128)"
      ]
    },
    {
      "cell_type": "code",
      "execution_count": 14,
      "metadata": {
        "id": "RBkmDeUW9hE4"
      },
      "outputs": [],
      "source": [
        "# Loading the saved model\n",
        "model = tf.keras.models.load_model(model_save_path)"
      ]
    },
    {
      "cell_type": "code",
      "execution_count": 15,
      "metadata": {
        "colab": {
          "base_uri": "https://localhost:8080/"
        },
        "id": "tFz9Tb0I9hE4",
        "outputId": "4568ae16-deb7-47c0-bd1a-bf7de56296e4"
      },
      "outputs": [
        {
          "output_type": "stream",
          "name": "stdout",
          "text": [
            "1/1 [==============================] - 0s 91ms/step\n",
            "[9.7494996e-01 9.2210015e-04 2.4124650e-02 1.1831612e-07 2.4909443e-06\n",
            " 6.4934574e-07 2.3475311e-10]\n",
            "0\n"
          ]
        }
      ],
      "source": [
        "# Inference test\n",
        "predict_result = model.predict(np.array([X_test[0]]))\n",
        "print(np.squeeze(predict_result))\n",
        "print(np.argmax(np.squeeze(predict_result)))"
      ]
    },
    {
      "cell_type": "code",
      "source": [
        "# Visualize training \n",
        "\n",
        "# summarize history for accuracy\n",
        "plt.plot(history.history['accuracy'])\n",
        "plt.plot(history.history['val_accuracy'])\n",
        "plt.title('model accuracy')\n",
        "plt.ylabel('accuracy')\n",
        "plt.xlabel('epoch')\n",
        "plt.legend(['train', 'test'], loc='upper left')\n",
        "plt.show()\n",
        "# summarize history for loss\n",
        "plt.plot(history.history['loss'])\n",
        "plt.plot(history.history['val_loss'])\n",
        "plt.title('model loss')\n",
        "plt.ylabel('loss')\n",
        "plt.xlabel('epoch')\n",
        "plt.legend(['train', 'test'], loc='upper left')\n",
        "plt.show()"
      ],
      "metadata": {
        "colab": {
          "base_uri": "https://localhost:8080/",
          "height": 927
        },
        "id": "Rk9iy8rcMjbI",
        "outputId": "0b0c2e12-4dc1-4915-d7ed-8fe9bc9deca1"
      },
      "execution_count": 16,
      "outputs": [
        {
          "output_type": "display_data",
          "data": {
            "text/plain": [
              "<Figure size 640x480 with 1 Axes>"
            ],
            "image/png": "[encoded data removed]"
          },
          "metadata": {}
        },
        {
          "output_type": "display_data",
          "data": {
            "text/plain": [
              "<Figure size 640x480 with 1 Axes>"
            ],
            "image/png": "[encoded data removed]"
          },
          "metadata": {}
        }
      ]
    },
    {
      "cell_type": "markdown",
      "source": [
        "# Confusion Matrix"
      ],
      "metadata": {
        "id": "qoE0rxapv80d"
      }
    },
    {
      "cell_type": "code",
      "source": [
        "import pandas as pd\n",
        "import seaborn as sns\n",
        "import matplotlib.pyplot as plt\n",
        "from sklearn.metrics import confusion_matrix, classification_report\n",
        "\n",
        "def print_confusion_matrix(y_true, y_pred, report=True):\n",
        "    labels = sorted(list(set(y_true)))\n",
        "    cmx_data = confusion_matrix(y_true, y_pred, labels=labels)\n",
        "    \n",
        "    df_cmx = pd.DataFrame(cmx_data, index=labels, columns=labels)\n",
        " \n",
        "    fig, ax = plt.subplots(figsize=(7, 6))\n",
        "    sns.heatmap(df_cmx, annot=True, fmt='g' ,square=False)\n",
        "    ax.set_ylim(len(set(y_true)), 0)\n",
        "    plt.show()\n",
        "    \n",
        "    if report:\n",
        "        print('Classification Report')\n",
        "        print(classification_report(y_test, y_pred))\n",
        "\n",
        "Y_pred = model.predict(X_test)\n",
        "y_pred = np.argmax(Y_pred, axis=1)\n",
        "\n",
        "print_confusion_matrix(y_test, y_pred)"
      ],
      "metadata": {
        "colab": {
          "base_uri": "https://localhost:8080/",
          "height": 800
        },
        "id": "2DSy_PXdv6xM",
        "outputId": "a198f59d-d998-487c-f6ab-7fdb665e510f"
      },
      "execution_count": 17,
      "outputs": [
        {
          "output_type": "stream",
          "name": "stdout",
          "text": [
            "39/39 [==============================] - 0s 3ms/step\n"
          ]
        },
        {
          "output_type": "display_data",
          "data": {
            "text/plain": [
              "<Figure size 700x600 with 2 Axes>"
            ],
            "image/png": "[encoded data removed]"
          },
          "metadata": {}
        },
        {
          "output_type": "stream",
          "name": "stdout",
          "text": [
            "Classification Report\n",
            "              precision    recall  f1-score   support\n",
            "\n",
            "           0       1.00      0.93      0.97       196\n",
            "           1       1.00      0.97      0.99       183\n",
            "           2       0.91      1.00      0.95       172\n",
            "           3       0.96      1.00      0.98       150\n",
            "           4       0.88      0.81      0.84       157\n",
            "           5       0.84      0.85      0.84       179\n",
            "           6       0.99      1.00      1.00       206\n",
            "\n",
            "    accuracy                           0.94      1243\n",
            "   macro avg       0.94      0.94      0.94      1243\n",
            "weighted avg       0.94      0.94      0.94      1243\n",
            "\n"
          ]
        }
      ]
    },
    {
      "cell_type": "markdown",
      "metadata": {
        "id": "FNP6aqzc9hE5"
      },
      "source": [
        "# Convert to model for Tensorflow-Lite"
      ]
    },
    {
      "cell_type": "code",
      "execution_count": 18,
      "metadata": {
        "id": "ODjnYyld9hE6"
      },
      "outputs": [],
      "source": [
        "# Save as a model dedicated to inference\n",
        "model.save(model_save_path, include_optimizer=False)"
      ]
    },
    {
      "cell_type": "code",
      "execution_count": 19,
      "metadata": {
        "colab": {
          "base_uri": "https://localhost:8080/"
        },
        "id": "zRfuK8Y59hE6",
        "outputId": "124eb3f2-937f-4d04-942e-c26ce535287f"
      },
      "outputs": [
        {
          "output_type": "stream",
          "name": "stderr",
          "text": [
            "WARNING:absl:Found untraced functions such as _update_step_xla while saving (showing 1 of 1). These functions will not be directly callable after loading.\n"
          ]
        },
        {
          "output_type": "execute_result",
          "data": {
            "text/plain": [
              "8856"
            ]
          },
          "metadata": {},
          "execution_count": 19
        }
      ],
      "source": [
        "# Transform model (quantization)\n",
        "\n",
        "converter = tf.lite.TFLiteConverter.from_keras_model(model)\n",
        "converter.optimizations = [tf.lite.Optimize.DEFAULT]\n",
        "tflite_quantized_model = converter.convert()\n",
        "\n",
        "open(tflite_save_path, 'wb').write(tflite_quantized_model)"
      ]
    }
  ],
  "metadata": {
    "accelerator": "GPU",
    "colab": {
      "provenance": []
    },
    "kernelspec": {
      "display_name": "Python 3",
      "language": "python",
      "name": "python3"
    },
    "language_info": {
      "codemirror_mode": {
        "name": "ipython",
        "version": 3
      },
      "file_extension": ".py",
      "mimetype": "text/x-python",
      "name": "python",
      "nbconvert_exporter": "python",
      "pygments_lexer": "ipython3",
      "version": "3.9.12 (main, Mar 26 2022, 15:44:31) \n[Clang 13.1.6 (clang-1316.0.21.2)]"
    },
    "vscode": {
      "interpreter": {
        "hash": "b0fa6594d8f4cbf19f97940f81e996739fb7646882a419484c72d19e05852a7e"
      }
    }
  },
  "nbformat": 4,
  "nbformat_minor": 0
}